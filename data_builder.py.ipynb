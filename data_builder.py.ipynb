{
 "cells": [
  {
   "cell_type": "code",
   "execution_count": 1,
   "metadata": {},
   "outputs": [],
   "source": [
    "# https://docs.python.org/3/library/xml.etree.elementtree.html#module-xml.etree.ElementTree\n",
    "# https://www.crummy.com/software/BeautifulSoup/bs3/documentation.html\n",
    "#from bs4 import BeautifulSoup as bs\n",
    "#import lxml\n",
    "#from BeautifulSoup import BeautifulStoneSoup     # For processing XML\n",
    "\n",
    "import xml.etree.ElementTree as ET"
   ]
  },
  {
   "cell_type": "code",
   "execution_count": 2,
   "metadata": {},
   "outputs": [],
   "source": [
    "file = \"/home/max/Documents/mlt/adv_machine/project/data/ukwac_nowiki3466.xml\""
   ]
  },
  {
   "cell_type": "code",
   "execution_count": 3,
   "metadata": {},
   "outputs": [],
   "source": [
    "tree = ET.parse(file)"
   ]
  },
  {
   "cell_type": "code",
   "execution_count": 4,
   "metadata": {},
   "outputs": [],
   "source": [
    "root = tree.getroot()"
   ]
  },
  {
   "cell_type": "code",
   "execution_count": 5,
   "metadata": {},
   "outputs": [
    {
     "data": {
      "text/plain": [
       "21187"
      ]
     },
     "execution_count": 5,
     "metadata": {},
     "output_type": "execute_result"
    }
   ],
   "source": [
    "len(root) # no. of sentences"
   ]
  },
  {
   "cell_type": "code",
   "execution_count": null,
   "metadata": {},
   "outputs": [],
   "source": [
    "def he2her(he_string):\n",
    "    \"\"\" Takes the content (string) of text taged with <he_srl> in IKWAC\n",
    "        data and returns role sequences relative predicates.\n",
    "    \"\"\"\n",
    "    he_interpreter = []\n",
    "    \n",
    "    \n",
    "    \n",
    "    \n",
    "    \n",
    "    \n",
    "    "
   ]
  },
  {
   "cell_type": "code",
   "execution_count": 28,
   "metadata": {},
   "outputs": [],
   "source": [
    "data = []\n",
    "for s in root[:2]:\n",
    "    sentence = {}\n",
    "    #r_sentence = s.find(\"rawsent\").text.split() \n",
    "    t_sentence = s.find(\"tokenized\").text.split() # 'quotechar' and 'delimiter'\n",
    "    sentence[\"tokens\"] = t_sentence\n",
    "    sentence\n",
    "    \n",
    "    predicates = []\n",
    "    for frame in s.iter(\"Frame\"):\n",
    "        sr_codes = []\n",
    "        \n",
    "        for arg in frame.iter(\"Arg\"):\n",
    "            element = {}\n",
    "            attributes = arg.attrib\n",
    "            \n",
    "            element[\"role\"] = attributes[\"role\"]\n",
    "            element[\"token\"] = attributes[\"phrase\"]\n",
    "            element[\"start\"] = int(attributes[\"span_begin\"])\n",
    "            element[\"end\"] = int(attributes[\"span_end\"])\n",
    "            \n",
    "            sr_codes.append(element)\n",
    "            \n",
    "        predicates.append(sr_codes)\n",
    "    \n",
    "    sentence[\"srl\"] = predicates\n",
    "    data.append(sentence)\n"
   ]
  },
  {
   "cell_type": "code",
   "execution_count": 29,
   "metadata": {},
   "outputs": [
    {
     "data": {
      "text/plain": [
       "[{'tokens': ['Come',\n",
       "   'on',\n",
       "   'within',\n",
       "   ':',\n",
       "   'Can',\n",
       "   'returning',\n",
       "   'Quinn',\n",
       "   'be',\n",
       "   'as',\n",
       "   'mighty',\n",
       "   'off',\n",
       "   'the',\n",
       "   'field',\n",
       "   'as',\n",
       "   'he',\n",
       "   'was',\n",
       "   'on',\n",
       "   'it',\n",
       "   '?'],\n",
       "  'srl': [[{'role': 'PRD', 'token': 'was', 'start': 15, 'end': 15},\n",
       "    {'role': 'ARG1', 'token': 'he', 'start': 14, 'end': 14},\n",
       "    {'role': 'ARGM-LOC', 'token': 'on it', 'start': 16, 'end': 17}],\n",
       "   [{'role': 'PRD', 'token': 'Come', 'start': 0, 'end': 0},\n",
       "    {'role': 'ARGM-LOC', 'token': 'within', 'start': 2, 'end': 2}],\n",
       "   [{'role': 'PRD', 'token': 'returning', 'start': 5, 'end': 5},\n",
       "    {'role': 'ARG1', 'token': 'Quinn', 'start': 6, 'end': 6}],\n",
       "   [{'role': 'PRD', 'token': 'be', 'start': 7, 'end': 7},\n",
       "    {'role': 'ARGM-MOD', 'token': 'Can', 'start': 4, 'end': 4},\n",
       "    {'role': 'ARG1', 'token': 'returning Quinn', 'start': 5, 'end': 6},\n",
       "    {'role': 'ARG2',\n",
       "     'token': 'as mighty off the field as he was on it',\n",
       "     'start': 8,\n",
       "     'end': 17}]]},\n",
       " {'tokens': ['(',\n",
       "   'Independent',\n",
       "   ')',\n",
       "   'According',\n",
       "   'to',\n",
       "   'the',\n",
       "   'League',\n",
       "   'table',\n",
       "   'on',\n",
       "   'the',\n",
       "   'homepage',\n",
       "   'of',\n",
       "   'the',\n",
       "   'Sunderland',\n",
       "   'website',\n",
       "   'Niall',\n",
       "   'Quinn',\n",
       "   'has',\n",
       "   'inherited',\n",
       "   'a',\n",
       "   'club',\n",
       "   'in',\n",
       "   'a',\n",
       "   'relegation',\n",
       "   'place',\n",
       "   'in',\n",
       "   'the',\n",
       "   'Championship',\n",
       "   '.'],\n",
       "  'srl': [[{'role': 'PRD', 'token': 'inherited', 'start': 18, 'end': 18},\n",
       "    {'role': 'ARGM-DIS', 'token': '( Independent )', 'start': 0, 'end': 2},\n",
       "    {'role': 'ARGM-ADV',\n",
       "     'token': 'According to the League table on the homepage of the Sunderland website',\n",
       "     'start': 3,\n",
       "     'end': 14},\n",
       "    {'role': 'ARG0', 'token': 'Niall Quinn', 'start': 15, 'end': 16},\n",
       "    {'role': 'ARG1', 'token': 'a club', 'start': 19, 'end': 20},\n",
       "    {'role': 'ARGM-LOC',\n",
       "     'token': 'in a relegation place in the Championship',\n",
       "     'start': 21,\n",
       "     'end': 27}]]}]"
      ]
     },
     "execution_count": 29,
     "metadata": {},
     "output_type": "execute_result"
    }
   ],
   "source": [
    "data"
   ]
  },
  {
   "cell_type": "code",
   "execution_count": 39,
   "metadata": {},
   "outputs": [
    {
     "name": "stdout",
     "output_type": "stream",
     "text": [
      "Come 0\n",
      "on 0\n",
      "within 0\n",
      ": 0\n",
      "Can 0\n",
      "returning 0\n",
      "Quinn 0\n",
      "be 0\n",
      "as 0\n",
      "mighty 0\n",
      "off 0\n",
      "the 0\n",
      "field 0\n",
      "as 0\n",
      "he B-ARG1\n",
      "was B-PRD\n",
      "on B-ARGM-LOC\n",
      "it I-ARGM-LOC\n",
      "? 0\n",
      "Come B-PRD\n",
      "on 0\n",
      "within B-ARGM-LOC\n",
      ": 0\n",
      "Can 0\n",
      "returning 0\n",
      "Quinn 0\n",
      "be 0\n",
      "as 0\n",
      "mighty 0\n",
      "off 0\n",
      "the 0\n",
      "field 0\n",
      "as 0\n",
      "he 0\n",
      "was 0\n",
      "on 0\n",
      "it 0\n",
      "? 0\n",
      "Come 0\n",
      "on 0\n",
      "within 0\n",
      ": 0\n",
      "Can 0\n",
      "returning B-PRD\n",
      "Quinn B-ARG1\n",
      "be 0\n",
      "as 0\n",
      "mighty 0\n",
      "off 0\n",
      "the 0\n",
      "field 0\n",
      "as 0\n",
      "he 0\n",
      "was 0\n",
      "on 0\n",
      "it 0\n",
      "? 0\n",
      "Come 0\n",
      "on 0\n",
      "within 0\n",
      ": 0\n",
      "Can B-ARGM-MOD\n",
      "returning B-ARG1\n",
      "Quinn I-ARG1\n",
      "be B-PRD\n",
      "as B-ARG2\n",
      "mighty I-ARG2\n",
      "off I-ARG2\n",
      "the I-ARG2\n",
      "field I-ARG2\n",
      "as I-ARG2\n",
      "he I-ARG2\n",
      "was I-ARG2\n",
      "on I-ARG2\n",
      "it I-ARG2\n",
      "? 0\n",
      "( B-ARGM-DIS\n",
      "Independent I-ARGM-DIS\n",
      ") I-ARGM-DIS\n",
      "According B-ARGM-ADV\n",
      "to I-ARGM-ADV\n",
      "the I-ARGM-ADV\n",
      "League I-ARGM-ADV\n",
      "table I-ARGM-ADV\n",
      "on I-ARGM-ADV\n",
      "the I-ARGM-ADV\n",
      "homepage I-ARGM-ADV\n",
      "of I-ARGM-ADV\n",
      "the I-ARGM-ADV\n",
      "Sunderland I-ARGM-ADV\n",
      "website I-ARGM-ADV\n",
      "Niall B-ARG0\n",
      "Quinn I-ARG0\n",
      "has 0\n",
      "inherited B-PRD\n",
      "a B-ARG1\n",
      "club I-ARG1\n",
      "in B-ARGM-LOC\n",
      "a I-ARGM-LOC\n",
      "relegation I-ARGM-LOC\n",
      "place I-ARGM-LOC\n",
      "in I-ARGM-LOC\n",
      "the I-ARGM-LOC\n",
      "Championship I-ARGM-LOC\n",
      ". 0\n"
     ]
    }
   ],
   "source": [
    "for s in data:\n",
    "    \n",
    "    for predicate in s[\"srl\"]:\n",
    "        \n",
    "        io_sequence = [0 for i in range(len(s[\"tokens\"]))]\n",
    "        \n",
    "        for arg in predicate:\n",
    "            \n",
    "            if arg[\"start\"] == arg[\"end\"]:\n",
    "                io_sequence[arg[\"start\"]] = \"B-\"+arg[\"role\"]\n",
    "            \n",
    "            else:\n",
    "                io_sequence[arg[\"start\"]] = \"B-\"+arg[\"role\"]\n",
    "                \n",
    "                for i in range(arg[\"start\"]+1, arg[\"end\"]+1): # +1?\n",
    "                    io_sequence[i] = \"I-\"+arg[\"role\"]\n",
    "        \n",
    "        z = list(zip(s[\"tokens\"], io_sequence))\n",
    "        for t, r in z:\n",
    "            print(t, r)\n",
    "        \n"
   ]
  },
  {
   "cell_type": "code",
   "execution_count": 15,
   "metadata": {},
   "outputs": [
    {
     "name": "stdout",
     "output_type": "stream",
     "text": [
      "[0, 'ARG0', 'ARG0', 0, 0]\n"
     ]
    }
   ],
   "source": [
    "zeroes = [0 for i in range(5)]\n",
    "start = 1\n",
    "stop = 2+1\n",
    "for i in range(start, stop):\n",
    "    zeroes[i] = \"ARG0\"\n",
    "print(zeroes)"
   ]
  },
  {
   "cell_type": "code",
   "execution_count": null,
   "metadata": {},
   "outputs": [],
   "source": [
    "# no. of sentences having only 1 frame\n",
    "i=0\n",
    "for s in root:\n",
    "    if len([x for x in s.iter(\"Frame\")]) == 1:\n",
    "        i += 1\n",
    "i"
   ]
  },
  {
   "cell_type": "code",
   "execution_count": null,
   "metadata": {},
   "outputs": [],
   "source": [
    "# no. of frames in total\n",
    "frames = [f for f in root.iter(\"Frame\")]\n",
    "len(frames)"
   ]
  },
  {
   "cell_type": "code",
   "execution_count": null,
   "metadata": {},
   "outputs": [],
   "source": [
    "rawsentences = [rs.text for rs in root.iter(\"rawsent\")]\n",
    "for i, sent in enumerate(rawsentences[:20]):\n",
    "    print(i, sent)\n"
   ]
  },
  {
   "cell_type": "code",
   "execution_count": null,
   "metadata": {},
   "outputs": [],
   "source": []
  },
  {
   "cell_type": "code",
   "execution_count": null,
   "metadata": {},
   "outputs": [],
   "source": []
  }
 ],
 "metadata": {
  "kernelspec": {
   "display_name": "Python 3",
   "language": "python",
   "name": "python3"
  },
  "language_info": {
   "codemirror_mode": {
    "name": "ipython",
    "version": 3
   },
   "file_extension": ".py",
   "mimetype": "text/x-python",
   "name": "python",
   "nbconvert_exporter": "python",
   "pygments_lexer": "ipython3",
   "version": "3.8.5"
  }
 },
 "nbformat": 4,
 "nbformat_minor": 4
}
